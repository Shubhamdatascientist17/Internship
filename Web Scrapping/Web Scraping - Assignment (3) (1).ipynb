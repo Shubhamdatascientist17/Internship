{
 "cells": [
  {
   "cell_type": "markdown",
   "id": "0d9840cf",
   "metadata": {},
   "source": [
    " #### 1. Write a python program which searches all the product under a particular product from www.amazon.in. The product to be searched will be taken as input from user. For e.g. If user input is ‘guitar’. Then search for guitars. "
   ]
  },
  {
   "cell_type": "code",
   "execution_count": 80,
   "id": "e262cfe6",
   "metadata": {},
   "outputs": [],
   "source": [
    "import time\n",
    "from selenium import webdriver\n",
    "import selenium\n",
    "import pandas as pd\n",
    "import warnings\n",
    "warnings.filterwarnings('ignore')\n",
    "from selenium.webdriver.common.by import By\n",
    "from selenium.common.exceptions import StaleElementReferenceException, NoSuchElementException"
   ]
  },
  {
   "cell_type": "code",
   "execution_count": 81,
   "id": "7b4911e0",
   "metadata": {},
   "outputs": [],
   "source": [
    "driver = webdriver.Chrome()"
   ]
  },
  {
   "cell_type": "code",
   "execution_count": 82,
   "id": "10479dc2",
   "metadata": {},
   "outputs": [
    {
     "name": "stdout",
     "output_type": "stream",
     "text": [
      "enter your item: guitars\n"
     ]
    }
   ],
   "source": [
    "val=input(\"enter your item: \")"
   ]
  },
  {
   "cell_type": "markdown",
   "id": "33740a0c",
   "metadata": {},
   "source": [
    "#### 2. In the above question, now scrape the following details of each product listed in first 3 pages of your search results and save it in a data frame and csv. In case if any product has less than 3 pages in search results then scrape all the products available under that product name. Details to be scraped are: \"Brand Name\", \"Name of the Product\", \"Price\", \"Return/Exchange\", \"Expected Delivery\", \"Availability\" and “Product URL”. In case, if any of the details are missing for any of the product then replace it by “-“. "
   ]
  },
  {
   "cell_type": "code",
   "execution_count": 83,
   "id": "94e107fd",
   "metadata": {},
   "outputs": [],
   "source": [
    "driver.get(\"https://www.amazon.in/\")\n",
    "time.sleep(3)"
   ]
  },
  {
   "cell_type": "code",
   "execution_count": 84,
   "id": "b5534115",
   "metadata": {},
   "outputs": [],
   "source": [
    "Input=driver.find_element(By.XPATH,\"/html/body/div[1]/header/div/div[1]/div[2]/div/form/div[2]/div[1]/input\")\n",
    "Input.send_keys(\"guitars\")"
   ]
  },
  {
   "cell_type": "code",
   "execution_count": 85,
   "id": "7a5de0d6",
   "metadata": {},
   "outputs": [],
   "source": [
    "search=driver.find_element(By.XPATH,\"/html/body/div[1]/header/div/div[1]/div[2]/div/form/div[3]/div/span/input\")\n",
    "search.click()"
   ]
  },
  {
   "cell_type": "code",
   "execution_count": 89,
   "id": "484edad8",
   "metadata": {},
   "outputs": [],
   "source": [
    "# Scrap all product url's\n",
    "\n",
    "product_urls=[]\n",
    "start=0\n",
    "end=3\n",
    "for page in range(start,end):\n",
    "    url=driver.find_elements(By.XPATH,'//a[@class= \"a-link-normal s-underline-text s-underline-link-text s-link-style a-text-normal\"]')\n",
    "    for i in url:\n",
    "        product_urls.append(i.get_attribute(\"href\"))\n",
    "    nxt_button=driver.find_element(By.XPATH,'//a[@class=\"s-pagination-item s-pagination-next s-pagination-button s-pagination-separator\"]')\n",
    "    nxt_button.click()\n",
    "    time.sleep(2)"
   ]
  },
  {
   "cell_type": "code",
   "execution_count": 90,
   "id": "77f8d809",
   "metadata": {},
   "outputs": [
    {
     "data": {
      "text/plain": [
       "131"
      ]
     },
     "execution_count": 90,
     "metadata": {},
     "output_type": "execute_result"
    }
   ],
   "source": [
    "len(product_urls)"
   ]
  },
  {
   "cell_type": "code",
   "execution_count": null,
   "id": "e73a8694",
   "metadata": {},
   "outputs": [],
   "source": [
    "for url in product_urls:\n",
    "    driver.get(url)\n",
    "    time.sleep(2)\n",
    "    \n",
    "    try:\n",
    "        brand= driver.find_element(By.XPATH,'//*[@id=\"productOverview_feature_div\"]/div/table/tbody/tr[1]/td[2]/span')\n",
    "        Brand.append(brand.text)\n",
    "    except NoSuchElementException:\n",
    "        Brand.append('-')\n",
    "    "
   ]
  },
  {
   "cell_type": "markdown",
   "id": "e20bf0e8",
   "metadata": {},
   "source": [
    "#### 3. Write a python program to access the search bar and search button on images.google.com and scrape 10 images each for keywords ‘fruits’, ‘cars’ and ‘Machine Learning’, ‘Guitar’, ‘Cakes’. "
   ]
  },
  {
   "cell_type": "code",
   "execution_count": 94,
   "id": "ccdbfe87",
   "metadata": {},
   "outputs": [],
   "source": [
    "driver = webdriver.Chrome()"
   ]
  },
  {
   "cell_type": "code",
   "execution_count": 95,
   "id": "86813870",
   "metadata": {},
   "outputs": [],
   "source": [
    "driver.get(\"https://images.google.com/\")\n",
    "time.sleep(3)"
   ]
  },
  {
   "cell_type": "code",
   "execution_count": 96,
   "id": "0b53429f",
   "metadata": {},
   "outputs": [],
   "source": [
    "Input=driver.find_element(By.XPATH,\"/html/body/div[1]/div[3]/form/div[1]/div[1]/div[1]/div/div[2]/textarea\")\n",
    "Input.send_keys(\"cake\")"
   ]
  },
  {
   "cell_type": "code",
   "execution_count": 99,
   "id": "d840ff0a",
   "metadata": {},
   "outputs": [],
   "source": [
    "search=driver.find_element(By.XPATH,\"/html/body/div[1]/div[3]/form/div[1]/div[1]/div[1]/button/div/span\")\n",
    "search.click()"
   ]
  },
  {
   "cell_type": "code",
   "execution_count": 100,
   "id": "ffdc6b30",
   "metadata": {},
   "outputs": [],
   "source": [
    "for _ in range(20):\n",
    "    driver.execute_script(\"window.scrollBy(0,700)\")\n",
    "    \n",
    "images = driver.find_elements(By.XPATH,'//img[@class=\"rg_i Q4LuWd\"]')\n",
    "\n",
    "img_urls=[]\n",
    "for image in images:\n",
    "    source= image.get_attribute('src')\n",
    "    if source is not None:\n",
    "        if (source[0:4] == 'http'):\n",
    "            img_urls.append(source)\n",
    "                           \n"
   ]
  },
  {
   "cell_type": "markdown",
   "id": "9f3db7a7",
   "metadata": {},
   "source": [
    "#### NAN"
   ]
  },
  {
   "cell_type": "markdown",
   "id": "7754f778",
   "metadata": {},
   "source": [
    "#### 4. Write a python program to search for a smartphone(e.g.: Oneplus Nord, pixel 4A, etc.) on www.flipkart.com and scrape following details for all the search results displayed on 1st page. Details to be scraped: “Brand Name”, “Smartphone name”, “Colour”, “RAM”, “Storage(ROM)”, “Primary Camera”, “Secondary Camera”, “Display Size”, “Battery Capacity”, “Price”, “Product URL”. Incase if any of the details is missing then replace it by “- “. Save your results in a dataframe and CSV. "
   ]
  },
  {
   "cell_type": "code",
   "execution_count": 108,
   "id": "77d59a87",
   "metadata": {},
   "outputs": [],
   "source": [
    "driver = webdriver.Chrome()"
   ]
  },
  {
   "cell_type": "code",
   "execution_count": 109,
   "id": "73764968",
   "metadata": {},
   "outputs": [],
   "source": [
    "driver.get(\"https://www.flipkart.com/\")\n",
    "time.sleep(3)"
   ]
  },
  {
   "cell_type": "code",
   "execution_count": 110,
   "id": "40f161ed",
   "metadata": {},
   "outputs": [],
   "source": [
    "Input=driver.find_element(By.XPATH,\"/html/body/div[1]/div/div[1]/div/div/div/div/div[1]/div/div[1]/div/div[1]/header/div[1]/div[2]/form/div/div/input\")\n",
    "Input.send_keys(\"smart phone\")"
   ]
  },
  {
   "cell_type": "code",
   "execution_count": 112,
   "id": "ca74296f",
   "metadata": {},
   "outputs": [],
   "source": [
    "search=driver.find_element(By.XPATH,\"/html/body/div[1]/div/div[1]/div/div/div/div/div[1]/div/div[1]/div/div[1]/header/div[1]/div[2]/form/div/button\")\n",
    "search.click()"
   ]
  },
  {
   "cell_type": "code",
   "execution_count": 113,
   "id": "9adbe824",
   "metadata": {},
   "outputs": [],
   "source": [
    "# Scrap all product url's\n",
    "\n",
    "product_urls=[]\n",
    "start=0\n",
    "end=3\n",
    "for page in range(start,end):\n",
    "    url=driver.find_elements(By.XPATH,'//a[@class=\"_1fQZEK\"]')\n",
    "    for i in url:\n",
    "        product_urls.append(i.get_attribute(\"href\"))\n",
    "    nxt_button=driver.find_element(By.XPATH,'//a[@class=\"_1LKTO3\"]')\n",
    "    nxt_button.click()\n",
    "    time.sleep(2)"
   ]
  },
  {
   "cell_type": "code",
   "execution_count": 114,
   "id": "99de67f2",
   "metadata": {},
   "outputs": [
    {
     "data": {
      "text/plain": [
       "72"
      ]
     },
     "execution_count": 114,
     "metadata": {},
     "output_type": "execute_result"
    }
   ],
   "source": [
    "len(product_urls)"
   ]
  },
  {
   "cell_type": "code",
   "execution_count": 115,
   "id": "5c7ed1b6",
   "metadata": {},
   "outputs": [],
   "source": [
    "open_link=driver.find_element(By.XPATH,\"/html/body/div/div/div[3]/div[1]/div[2]/div[2]/div/div/div/a/div[2]/div[1]/div[1]\")\n",
    "open_link.click()"
   ]
  },
  {
   "cell_type": "code",
   "execution_count": 118,
   "id": "c2ad41b3",
   "metadata": {},
   "outputs": [],
   "source": [
    "Brand=[]\n",
    "for url in product_urls:\n",
    "    driver.get(url)\n",
    "    time.sleep(2)\n",
    "    \n",
    "    try:\n",
    "        brand= driver.find_element(By.XPATH,'//*[@id=\"B_NuCI\"]/div/table/tbody/tr[1]/td[2]/span')\n",
    "        Brand.append(brand.text)\n",
    "    except NoSuchElementException:\n",
    "        Brand.append('-')\n",
    "    "
   ]
  },
  {
   "cell_type": "code",
   "execution_count": 119,
   "id": "6f62439f",
   "metadata": {},
   "outputs": [],
   "source": [
    "Colour=[]\n",
    "for url in product_urls:\n",
    "    driver.get(url)\n",
    "    time.sleep(2)\n",
    "    \n",
    "    try:\n",
    "        colour= driver.find_element(By.XPATH,'//*[@id=\"_21lJbe\"]/div/table/tbody/tr[1]/td[2]/span')\n",
    "        Colour.append(colour.text)\n",
    "    except NoSuchElementException:\n",
    "        Colour.append('-')\n",
    "    "
   ]
  },
  {
   "cell_type": "code",
   "execution_count": 120,
   "id": "1ff186e0",
   "metadata": {},
   "outputs": [],
   "source": [
    "Ram=[]\n",
    "Storage=[]\n",
    "Primary_camera=[]\n",
    "Secondary_camera=[]\n",
    "Display_size=[]\n",
    "Battery_capacity=[]\n",
    "\n",
    "for url in product_urls:\n",
    "    driver.get(url)\n",
    "    time.sleep(2)\n",
    "    \n",
    "    try:\n",
    "        ram= driver.find_element(By.XPATH,'//*[@id=\"_1q8vHb\"]/div/table/tbody/tr[1]/td[2]/span')\n",
    "        Ram.append(ram.text)\n",
    "    except NoSuchElementException:\n",
    "        Ram.append('-')\n",
    "    try:\n",
    "        storage= driver.find_element(By.XPATH,'//*[@id=\"_1q8vHb\"]/div/table/tbody/tr[1]/td[2]/span')\n",
    "        Storage.append(storage.text)\n",
    "    except NoSuchElementException:\n",
    "        Storage.append('-')\n",
    "    try:\n",
    "        primary_camera= driver.find_element(By.XPATH,'//*[@id=\"_21Ahn-\"]/div/table/tbody/tr[1]/td[2]/span')\n",
    "        Primary_camera.append(primary_camera.text)\n",
    "    except NoSuchElementException:\n",
    "        Primary_camera.append('-')\n",
    "    try:\n",
    "        secondary_camera= driver.find_element(By.XPATH,'//*[@id=\"_21Ahn-\"]/div/table/tbody/tr[1]/td[2]/span')\n",
    "        Secondary_camera.append(secondary_camera.text)\n",
    "    except NoSuchElementException:\n",
    "        Secondary_camera.append('-')\n",
    "    try:\n",
    "        display_size= driver.find_element(By.XPATH,'//*[@id=\"_21Ahn-\"]/div/table/tbody/tr[1]/td[2]/span')\n",
    "        Display_size.append(display_size.text)\n",
    "    except NoSuchElementException:\n",
    "        Display_size.append('-')\n",
    "    try:\n",
    "        battery_capacity= driver.find_element(By.XPATH,'//*[@id=\"_21Ahn-\"]/div/table/tbody/tr[1]/td[2]/span')\n",
    "        Battery_capacity.append(battery_capacity.text)\n",
    "    except NoSuchElementException:\n",
    "        Battery_capacity.append('-')\n"
   ]
  },
  {
   "cell_type": "code",
   "execution_count": 121,
   "id": "f093c12d",
   "metadata": {},
   "outputs": [
    {
     "data": {
      "text/html": [
       "<div>\n",
       "<style scoped>\n",
       "    .dataframe tbody tr th:only-of-type {\n",
       "        vertical-align: middle;\n",
       "    }\n",
       "\n",
       "    .dataframe tbody tr th {\n",
       "        vertical-align: top;\n",
       "    }\n",
       "\n",
       "    .dataframe thead th {\n",
       "        text-align: right;\n",
       "    }\n",
       "</style>\n",
       "<table border=\"1\" class=\"dataframe\">\n",
       "  <thead>\n",
       "    <tr style=\"text-align: right;\">\n",
       "      <th></th>\n",
       "      <th>Brand</th>\n",
       "      <th>Colour</th>\n",
       "      <th>Ram</th>\n",
       "      <th>Storage</th>\n",
       "      <th>Primary_camera</th>\n",
       "      <th>Secondary_camera</th>\n",
       "      <th>Display_size</th>\n",
       "      <th>Battery_capacity</th>\n",
       "    </tr>\n",
       "  </thead>\n",
       "  <tbody>\n",
       "    <tr>\n",
       "      <th>0</th>\n",
       "      <td>-</td>\n",
       "      <td>-</td>\n",
       "      <td>-</td>\n",
       "      <td>-</td>\n",
       "      <td>-</td>\n",
       "      <td>-</td>\n",
       "      <td>-</td>\n",
       "      <td>-</td>\n",
       "    </tr>\n",
       "    <tr>\n",
       "      <th>1</th>\n",
       "      <td>-</td>\n",
       "      <td>-</td>\n",
       "      <td>-</td>\n",
       "      <td>-</td>\n",
       "      <td>-</td>\n",
       "      <td>-</td>\n",
       "      <td>-</td>\n",
       "      <td>-</td>\n",
       "    </tr>\n",
       "    <tr>\n",
       "      <th>2</th>\n",
       "      <td>-</td>\n",
       "      <td>-</td>\n",
       "      <td>-</td>\n",
       "      <td>-</td>\n",
       "      <td>-</td>\n",
       "      <td>-</td>\n",
       "      <td>-</td>\n",
       "      <td>-</td>\n",
       "    </tr>\n",
       "    <tr>\n",
       "      <th>3</th>\n",
       "      <td>-</td>\n",
       "      <td>-</td>\n",
       "      <td>-</td>\n",
       "      <td>-</td>\n",
       "      <td>-</td>\n",
       "      <td>-</td>\n",
       "      <td>-</td>\n",
       "      <td>-</td>\n",
       "    </tr>\n",
       "    <tr>\n",
       "      <th>4</th>\n",
       "      <td>-</td>\n",
       "      <td>-</td>\n",
       "      <td>-</td>\n",
       "      <td>-</td>\n",
       "      <td>-</td>\n",
       "      <td>-</td>\n",
       "      <td>-</td>\n",
       "      <td>-</td>\n",
       "    </tr>\n",
       "    <tr>\n",
       "      <th>...</th>\n",
       "      <td>...</td>\n",
       "      <td>...</td>\n",
       "      <td>...</td>\n",
       "      <td>...</td>\n",
       "      <td>...</td>\n",
       "      <td>...</td>\n",
       "      <td>...</td>\n",
       "      <td>...</td>\n",
       "    </tr>\n",
       "    <tr>\n",
       "      <th>67</th>\n",
       "      <td>-</td>\n",
       "      <td>-</td>\n",
       "      <td>-</td>\n",
       "      <td>-</td>\n",
       "      <td>-</td>\n",
       "      <td>-</td>\n",
       "      <td>-</td>\n",
       "      <td>-</td>\n",
       "    </tr>\n",
       "    <tr>\n",
       "      <th>68</th>\n",
       "      <td>-</td>\n",
       "      <td>-</td>\n",
       "      <td>-</td>\n",
       "      <td>-</td>\n",
       "      <td>-</td>\n",
       "      <td>-</td>\n",
       "      <td>-</td>\n",
       "      <td>-</td>\n",
       "    </tr>\n",
       "    <tr>\n",
       "      <th>69</th>\n",
       "      <td>-</td>\n",
       "      <td>-</td>\n",
       "      <td>-</td>\n",
       "      <td>-</td>\n",
       "      <td>-</td>\n",
       "      <td>-</td>\n",
       "      <td>-</td>\n",
       "      <td>-</td>\n",
       "    </tr>\n",
       "    <tr>\n",
       "      <th>70</th>\n",
       "      <td>-</td>\n",
       "      <td>-</td>\n",
       "      <td>-</td>\n",
       "      <td>-</td>\n",
       "      <td>-</td>\n",
       "      <td>-</td>\n",
       "      <td>-</td>\n",
       "      <td>-</td>\n",
       "    </tr>\n",
       "    <tr>\n",
       "      <th>71</th>\n",
       "      <td>-</td>\n",
       "      <td>-</td>\n",
       "      <td>-</td>\n",
       "      <td>-</td>\n",
       "      <td>-</td>\n",
       "      <td>-</td>\n",
       "      <td>-</td>\n",
       "      <td>-</td>\n",
       "    </tr>\n",
       "  </tbody>\n",
       "</table>\n",
       "<p>72 rows × 8 columns</p>\n",
       "</div>"
      ],
      "text/plain": [
       "   Brand Colour Ram Storage Primary_camera Secondary_camera Display_size  \\\n",
       "0      -      -   -       -              -                -            -   \n",
       "1      -      -   -       -              -                -            -   \n",
       "2      -      -   -       -              -                -            -   \n",
       "3      -      -   -       -              -                -            -   \n",
       "4      -      -   -       -              -                -            -   \n",
       "..   ...    ...  ..     ...            ...              ...          ...   \n",
       "67     -      -   -       -              -                -            -   \n",
       "68     -      -   -       -              -                -            -   \n",
       "69     -      -   -       -              -                -            -   \n",
       "70     -      -   -       -              -                -            -   \n",
       "71     -      -   -       -              -                -            -   \n",
       "\n",
       "   Battery_capacity  \n",
       "0                 -  \n",
       "1                 -  \n",
       "2                 -  \n",
       "3                 -  \n",
       "4                 -  \n",
       "..              ...  \n",
       "67                -  \n",
       "68                -  \n",
       "69                -  \n",
       "70                -  \n",
       "71                -  \n",
       "\n",
       "[72 rows x 8 columns]"
      ]
     },
     "execution_count": 121,
     "metadata": {},
     "output_type": "execute_result"
    }
   ],
   "source": [
    "df = pd.DataFrame({\"Brand\":Brand,\"Colour\":Colour,\"Ram\":Ram,\"Storage\":Storage,\"Primary_camera\":Primary_camera,\"Secondary_camera\":Secondary_camera,\"Display_size\":Display_size,\"Battery_capacity\":Battery_capacity})\n",
    "df"
   ]
  },
  {
   "cell_type": "code",
   "execution_count": 122,
   "id": "195801a4",
   "metadata": {},
   "outputs": [],
   "source": [
    "df.to_csv(\"flipkart_product_data.csv\", index=False)"
   ]
  },
  {
   "cell_type": "code",
   "execution_count": 123,
   "id": "ed328c40",
   "metadata": {},
   "outputs": [],
   "source": [
    "driver.quit()"
   ]
  },
  {
   "cell_type": "markdown",
   "id": "9e9e8d40",
   "metadata": {},
   "source": [
    "#### 5. Write a program to scrap geospatial coordinates (latitude, longitude) of a city searched on google maps. "
   ]
  },
  {
   "cell_type": "code",
   "execution_count": 124,
   "id": "83ac064f",
   "metadata": {},
   "outputs": [],
   "source": [
    "driver = webdriver.Chrome()"
   ]
  },
  {
   "cell_type": "code",
   "execution_count": 125,
   "id": "365b40bb",
   "metadata": {},
   "outputs": [],
   "source": [
    "driver.get(\"https://www.google.com/maps/\")\n",
    "time.sleep(3)"
   ]
  },
  {
   "cell_type": "code",
   "execution_count": 126,
   "id": "ae25748a",
   "metadata": {},
   "outputs": [],
   "source": [
    "Input=driver.find_element(By.XPATH,\"/html/body/div[3]/div[8]/div[3]/div[1]/div[1]/div/div[2]/form/input\")\n",
    "Input.send_keys(\"delhi\")"
   ]
  },
  {
   "cell_type": "code",
   "execution_count": 127,
   "id": "660ef4b2",
   "metadata": {},
   "outputs": [],
   "source": [
    "search=driver.find_element(By.XPATH,\"/html/body/div[3]/div[8]/div[3]/div[1]/div[1]/div/div[2]/div[1]/button\")\n",
    "search.click()"
   ]
  },
  {
   "cell_type": "code",
   "execution_count": 128,
   "id": "d642cdc2",
   "metadata": {},
   "outputs": [
    {
     "name": "stdout",
     "output_type": "stream",
     "text": [
      "Latitude: 28.6436993, Longitude: 76.4351308\n"
     ]
    }
   ],
   "source": [
    "try:\n",
    "    url = driver.current_url\n",
    "    parts = url.split('@')[1].split(',')\n",
    "    latitude = parts[0]\n",
    "    longitude = parts[1]\n",
    "    print(f\"Latitude: {latitude}, Longitude: {longitude}\")\n",
    "except Exception as e:\n",
    "    print(\"Error: Unable to extract coordinates.\")\n",
    "    print(e)"
   ]
  },
  {
   "cell_type": "code",
   "execution_count": 129,
   "id": "268ade9e",
   "metadata": {},
   "outputs": [],
   "source": [
    "driver.quit()"
   ]
  },
  {
   "cell_type": "markdown",
   "id": "4e6143d6",
   "metadata": {},
   "source": [
    "#### 6. Write a program to scrap all the available details of best gaming laptops from digit.in. "
   ]
  },
  {
   "cell_type": "code",
   "execution_count": 135,
   "id": "9ceff739",
   "metadata": {},
   "outputs": [],
   "source": [
    "driver = webdriver.Chrome()"
   ]
  },
  {
   "cell_type": "code",
   "execution_count": 136,
   "id": "78fbb37e",
   "metadata": {},
   "outputs": [],
   "source": [
    "driver.get(\"https://www.digit.in/top-products/top-10-laptops-5.html\")\n",
    "time.sleep(3)"
   ]
  },
  {
   "cell_type": "code",
   "execution_count": 137,
   "id": "b53a0a5a",
   "metadata": {},
   "outputs": [],
   "source": [
    "Laptop_name=[]\n",
    "laptop_name=driver.find_elements(By.XPATH,'//h3[@class=\"font130 mt0 mb10 mobilesblockdisplay \"]')\n",
    "for i in laptop_name:\n",
    "    name=i.text\n",
    "    Laptop_name.append(name)"
   ]
  },
  {
   "cell_type": "code",
   "execution_count": 144,
   "id": "033e97b8",
   "metadata": {},
   "outputs": [
    {
     "data": {
      "text/html": [
       "<div>\n",
       "<style scoped>\n",
       "    .dataframe tbody tr th:only-of-type {\n",
       "        vertical-align: middle;\n",
       "    }\n",
       "\n",
       "    .dataframe tbody tr th {\n",
       "        vertical-align: top;\n",
       "    }\n",
       "\n",
       "    .dataframe thead th {\n",
       "        text-align: right;\n",
       "    }\n",
       "</style>\n",
       "<table border=\"1\" class=\"dataframe\">\n",
       "  <thead>\n",
       "    <tr style=\"text-align: right;\">\n",
       "      <th></th>\n",
       "      <th>Laptop_name</th>\n",
       "    </tr>\n",
       "  </thead>\n",
       "  <tbody>\n",
       "    <tr>\n",
       "      <th>0</th>\n",
       "      <td>Apple MacBook Air 2022 M2 MLY03HN/A</td>\n",
       "    </tr>\n",
       "    <tr>\n",
       "      <th>1</th>\n",
       "      <td>Samsung Galaxy Book3 Pro 360</td>\n",
       "    </tr>\n",
       "    <tr>\n",
       "      <th>2</th>\n",
       "      <td>Lenovo Yoga 9i13th Gen Core i7-1360P</td>\n",
       "    </tr>\n",
       "    <tr>\n",
       "      <th>3</th>\n",
       "      <td>Apple MacBook Pro M2 (2023-MPHK3HN/A)</td>\n",
       "    </tr>\n",
       "    <tr>\n",
       "      <th>4</th>\n",
       "      <td>Dell XPS 13 Plus D560075WIN9S 12th Gen Core i7...</td>\n",
       "    </tr>\n",
       "    <tr>\n",
       "      <th>5</th>\n",
       "      <td>Acer Swift X SFX16-51G 11th Gen Core i7-11390H</td>\n",
       "    </tr>\n",
       "  </tbody>\n",
       "</table>\n",
       "</div>"
      ],
      "text/plain": [
       "                                         Laptop_name\n",
       "0                Apple MacBook Air 2022 M2 MLY03HN/A\n",
       "1                       Samsung Galaxy Book3 Pro 360\n",
       "2               Lenovo Yoga 9i13th Gen Core i7-1360P\n",
       "3              Apple MacBook Pro M2 (2023-MPHK3HN/A)\n",
       "4  Dell XPS 13 Plus D560075WIN9S 12th Gen Core i7...\n",
       "5     Acer Swift X SFX16-51G 11th Gen Core i7-11390H"
      ]
     },
     "execution_count": 144,
     "metadata": {},
     "output_type": "execute_result"
    }
   ],
   "source": [
    "df=pd.DataFrame({\"Laptop_name\":Laptop_name})\n",
    "df"
   ]
  },
  {
   "cell_type": "code",
   "execution_count": 154,
   "id": "5bd46de9",
   "metadata": {},
   "outputs": [],
   "source": [
    "driver.quit()"
   ]
  },
  {
   "cell_type": "markdown",
   "id": "3a4cac98",
   "metadata": {},
   "source": [
    "7. Write a python program to scrape the details for all billionaires from www.forbes.com. Details to be scrapped:\n",
    "“Rank”, “Name”, “Net worth”, “Age”, “Citizenship”, “Source”, “Industry”. "
   ]
  },
  {
   "cell_type": "code",
   "execution_count": 155,
   "id": "88851e6f",
   "metadata": {},
   "outputs": [],
   "source": [
    "driver = webdriver.Chrome()"
   ]
  },
  {
   "cell_type": "code",
   "execution_count": 156,
   "id": "68330489",
   "metadata": {},
   "outputs": [],
   "source": [
    "driver.get(\"https://www.forbes.com/billionaires/\")\n",
    "time.sleep(3)"
   ]
  },
  {
   "cell_type": "code",
   "execution_count": 169,
   "id": "315580a7",
   "metadata": {},
   "outputs": [],
   "source": [
    "ranks = []\n",
    "names = []\n",
    "net_worths = []\n",
    "ages = []\n",
    "citizenships = []\n",
    "sources = []\n",
    "industries = []"
   ]
  },
  {
   "cell_type": "code",
   "execution_count": 174,
   "id": "8763e614",
   "metadata": {},
   "outputs": [],
   "source": [
    "billionaire_elements = driver.find_elements(By.XPATH,'//div[@class=\"Table_rank___YBhk Table_dataCell__2QCve\"]')\n",
    "for element in billionaire_elements:\n",
    "    rank = element.text\n",
    "    ranks.append(rank)\n",
    "\n",
    "name_elements = driver.find_elements(By.XPATH,'//div[@class=\"Table_dataCell__2QCve\"]')\n",
    "for element in name_elements:\n",
    "    name = element.text\n",
    "    names.append(name)\n",
    "\n",
    "net_worth_elements = driver.find_elements(By.XPATH,'//div[@class=\"Table_netWorth___L4R5 Table_dataCell__2QCve\"]')\n",
    "for element in net_worth_elements:\n",
    "    net_worth = element.text\n",
    "    net_worths.append(net_worth)\n",
    "\n",
    "age_elements = driver.find_elements(By.XPATH,'//div[@class=\"Table_dataCell__2QCve\"]')\n",
    "for element in age_elements:\n",
    "    age = element.text\n",
    "    ages.append(age)\n",
    "\n",
    "citizenship_elements = driver.find_elements(By.XPATH,'//div[@class=\"TableRow_cell__db-hv Table_cell__houv9\"]')\n",
    "for element in citizenship_elements:\n",
    "    citizenship = element.text\n",
    "    citizenships.append(citizenship)\n",
    "\n",
    "source_elements = driver.find_elements(By.XPATH,'//div[@class=\"TableRow_cell__db-hv Table_cell__houv9\"]')\n",
    "for element in source_elements:\n",
    "    source = element.text\n",
    "    sources.append(source)\n",
    "\n",
    "industry_elements = driver.find_elements(By.XPATH,'//div[@class=\"Table_dataCell__2QCve\"]')\n",
    "for element in industry_elements:\n",
    "    industry = element.text\n",
    "    industries.append(industry)"
   ]
  },
  {
   "cell_type": "code",
   "execution_count": 176,
   "id": "d704161b",
   "metadata": {},
   "outputs": [
    {
     "data": {
      "text/html": [
       "<div>\n",
       "<style scoped>\n",
       "    .dataframe tbody tr th:only-of-type {\n",
       "        vertical-align: middle;\n",
       "    }\n",
       "\n",
       "    .dataframe tbody tr th {\n",
       "        vertical-align: top;\n",
       "    }\n",
       "\n",
       "    .dataframe thead th {\n",
       "        text-align: right;\n",
       "    }\n",
       "</style>\n",
       "<table border=\"1\" class=\"dataframe\">\n",
       "  <thead>\n",
       "    <tr style=\"text-align: right;\">\n",
       "      <th></th>\n",
       "      <th>Rank</th>\n",
       "      <th>Name</th>\n",
       "      <th>Net worth</th>\n",
       "      <th>Age</th>\n",
       "      <th>Citizenship</th>\n",
       "      <th>Source</th>\n",
       "      <th>Industry</th>\n",
       "    </tr>\n",
       "  </thead>\n",
       "  <tbody>\n",
       "    <tr>\n",
       "      <th>0</th>\n",
       "      <td>Bernard Arnault &amp; family</td>\n",
       "      <td>Bernard Arnault &amp; family</td>\n",
       "      <td>$211 B</td>\n",
       "      <td>Bernard Arnault &amp; family</td>\n",
       "      <td>1</td>\n",
       "      <td>1</td>\n",
       "      <td>Bernard Arnault &amp; family</td>\n",
       "    </tr>\n",
       "    <tr>\n",
       "      <th>1</th>\n",
       "      <td>74</td>\n",
       "      <td>74</td>\n",
       "      <td>$180 B</td>\n",
       "      <td>74</td>\n",
       "      <td>Bernard Arnault &amp; family</td>\n",
       "      <td>Bernard Arnault &amp; family</td>\n",
       "      <td>74</td>\n",
       "    </tr>\n",
       "    <tr>\n",
       "      <th>2</th>\n",
       "      <td></td>\n",
       "      <td>LVMH</td>\n",
       "      <td>$114 B</td>\n",
       "      <td>LVMH</td>\n",
       "      <td>$211 B</td>\n",
       "      <td>$211 B</td>\n",
       "      <td>LVMH</td>\n",
       "    </tr>\n",
       "    <tr>\n",
       "      <th>3</th>\n",
       "      <td></td>\n",
       "      <td></td>\n",
       "      <td>$107 B</td>\n",
       "      <td></td>\n",
       "      <td>74</td>\n",
       "      <td>74</td>\n",
       "      <td></td>\n",
       "    </tr>\n",
       "    <tr>\n",
       "      <th>4</th>\n",
       "      <td>Elon Musk</td>\n",
       "      <td>Elon Musk</td>\n",
       "      <td>$106 B</td>\n",
       "      <td>Elon Musk</td>\n",
       "      <td>France</td>\n",
       "      <td>France</td>\n",
       "      <td>Elon Musk</td>\n",
       "    </tr>\n",
       "    <tr>\n",
       "      <th>...</th>\n",
       "      <td>...</td>\n",
       "      <td>...</td>\n",
       "      <td>...</td>\n",
       "      <td>...</td>\n",
       "      <td>...</td>\n",
       "      <td>...</td>\n",
       "      <td>...</td>\n",
       "    </tr>\n",
       "    <tr>\n",
       "      <th>145</th>\n",
       "      <td>30</td>\n",
       "      <td>30</td>\n",
       "      <td>$11.8 B</td>\n",
       "      <td>30</td>\n",
       "      <td>Walmart</td>\n",
       "      <td>Walmart</td>\n",
       "      <td>30</td>\n",
       "    </tr>\n",
       "    <tr>\n",
       "      <th>146</th>\n",
       "      <td></td>\n",
       "      <td>Red Bull</td>\n",
       "      <td>$11.6 B</td>\n",
       "      <td>Red Bull</td>\n",
       "      <td></td>\n",
       "      <td></td>\n",
       "      <td>Red Bull</td>\n",
       "    </tr>\n",
       "    <tr>\n",
       "      <th>147</th>\n",
       "      <td></td>\n",
       "      <td></td>\n",
       "      <td>$11.5 B</td>\n",
       "      <td></td>\n",
       "      <td>22</td>\n",
       "      <td>22</td>\n",
       "      <td></td>\n",
       "    </tr>\n",
       "    <tr>\n",
       "      <th>148</th>\n",
       "      <td>Robin Zeng</td>\n",
       "      <td>Robin Zeng</td>\n",
       "      <td>$11.5 B</td>\n",
       "      <td>Robin Zeng</td>\n",
       "      <td>David Thomson &amp; family</td>\n",
       "      <td>David Thomson &amp; family</td>\n",
       "      <td>Robin Zeng</td>\n",
       "    </tr>\n",
       "    <tr>\n",
       "      <th>149</th>\n",
       "      <td>54</td>\n",
       "      <td>54</td>\n",
       "      <td>$11.5 B</td>\n",
       "      <td>54</td>\n",
       "      <td>$54.4 B</td>\n",
       "      <td>$54.4 B</td>\n",
       "      <td>54</td>\n",
       "    </tr>\n",
       "  </tbody>\n",
       "</table>\n",
       "<p>150 rows × 7 columns</p>\n",
       "</div>"
      ],
      "text/plain": [
       "                         Rank                      Name Net worth  \\\n",
       "0    Bernard Arnault & family  Bernard Arnault & family    $211 B   \n",
       "1                          74                        74    $180 B   \n",
       "2                                                  LVMH    $114 B   \n",
       "3                                                          $107 B   \n",
       "4                   Elon Musk                 Elon Musk    $106 B   \n",
       "..                        ...                       ...       ...   \n",
       "145                        30                        30   $11.8 B   \n",
       "146                                            Red Bull   $11.6 B   \n",
       "147                                                       $11.5 B   \n",
       "148                Robin Zeng                Robin Zeng   $11.5 B   \n",
       "149                        54                        54   $11.5 B   \n",
       "\n",
       "                          Age               Citizenship  \\\n",
       "0    Bernard Arnault & family                         1   \n",
       "1                          74  Bernard Arnault & family   \n",
       "2                        LVMH                    $211 B   \n",
       "3                                                    74   \n",
       "4                   Elon Musk                    France   \n",
       "..                        ...                       ...   \n",
       "145                        30                   Walmart   \n",
       "146                  Red Bull                             \n",
       "147                                                  22   \n",
       "148                Robin Zeng    David Thomson & family   \n",
       "149                        54                   $54.4 B   \n",
       "\n",
       "                       Source                  Industry  \n",
       "0                           1  Bernard Arnault & family  \n",
       "1    Bernard Arnault & family                        74  \n",
       "2                      $211 B                      LVMH  \n",
       "3                          74                            \n",
       "4                      France                 Elon Musk  \n",
       "..                        ...                       ...  \n",
       "145                   Walmart                        30  \n",
       "146                                            Red Bull  \n",
       "147                        22                            \n",
       "148    David Thomson & family                Robin Zeng  \n",
       "149                   $54.4 B                        54  \n",
       "\n",
       "[150 rows x 7 columns]"
      ]
     },
     "execution_count": 176,
     "metadata": {},
     "output_type": "execute_result"
    }
   ],
   "source": [
    "df=pd.DataFrame({\"Rank\": ranks[:150],\"Name\": names[:150],\"Net worth\": net_worths[:150],\"Age\": ages[:150],\"Citizenship\": citizenships[:150],\"Source\": sources[:150],\"Industry\": industries[:150]})\n",
    "df"
   ]
  },
  {
   "cell_type": "code",
   "execution_count": 177,
   "id": "e9d6bb23",
   "metadata": {},
   "outputs": [],
   "source": [
    "driver.quit()"
   ]
  },
  {
   "cell_type": "markdown",
   "id": "56bad675",
   "metadata": {},
   "source": [
    "#### 8. Write a program to extract at least 500 Comments, Comment upvote and time when comment was posted from any YouTube Video."
   ]
  },
  {
   "cell_type": "code",
   "execution_count": 178,
   "id": "7c480f01",
   "metadata": {},
   "outputs": [],
   "source": [
    "driver = webdriver.Chrome()"
   ]
  },
  {
   "cell_type": "code",
   "execution_count": 179,
   "id": "4868f76c",
   "metadata": {},
   "outputs": [],
   "source": [
    "driver.get(\"https://www.youtube.com/watch?v=hlGoQC332VM\")\n",
    "time.sleep(3)"
   ]
  },
  {
   "cell_type": "code",
   "execution_count": 182,
   "id": "7751e532",
   "metadata": {},
   "outputs": [],
   "source": [
    "for _ in range (500):\n",
    "    driver.execute_script(\"window.scrollBy(0,500)\")\n",
    "    \n",
    "comment_elements = driver.find_elements(By.XPATH, '//yt-formatted-string[@id=\"content-text\"]')"
   ]
  },
  {
   "cell_type": "code",
   "execution_count": 183,
   "id": "e84c91e6",
   "metadata": {},
   "outputs": [],
   "source": [
    "comments = []\n",
    "upvotes = []\n",
    "timestamps = []\n",
    "\n",
    "for element in comment_elements:\n",
    "    comment = element.text\n",
    "    comments.append(comment)\n",
    "\n",
    "upvote_elements = driver.find_elements(By.XPATH, '//span[@id=\"vote-count-middle\"]')\n",
    "for element in upvote_elements:\n",
    "    upvote = element.text\n",
    "    upvotes.append(upvote)\n",
    "\n",
    "timestamp_elements = driver.find_elements(By.XPATH, '//yt-formatted-string[@class=\"published-time-text above-comment style-scope ytd-comment-renderer\"]')\n",
    "for element in timestamp_elements:\n",
    "    timestamp = element.text\n",
    "    timestamps.append(timestamp)"
   ]
  },
  {
   "cell_type": "code",
   "execution_count": 187,
   "id": "364a2958",
   "metadata": {},
   "outputs": [
    {
     "data": {
      "text/html": [
       "<div>\n",
       "<style scoped>\n",
       "    .dataframe tbody tr th:only-of-type {\n",
       "        vertical-align: middle;\n",
       "    }\n",
       "\n",
       "    .dataframe tbody tr th {\n",
       "        vertical-align: top;\n",
       "    }\n",
       "\n",
       "    .dataframe thead th {\n",
       "        text-align: right;\n",
       "    }\n",
       "</style>\n",
       "<table border=\"1\" class=\"dataframe\">\n",
       "  <thead>\n",
       "    <tr style=\"text-align: right;\">\n",
       "      <th></th>\n",
       "      <th>Comments</th>\n",
       "      <th>upvotes</th>\n",
       "    </tr>\n",
       "  </thead>\n",
       "  <tbody>\n",
       "    <tr>\n",
       "      <th>0</th>\n",
       "      <td>Great Lecture &amp; thank you Shradha Ma'am : )\\nS...</td>\n",
       "      <td>1K</td>\n",
       "    </tr>\n",
       "    <tr>\n",
       "      <th>1</th>\n",
       "      <td>Excellent class Shradha, I seriously learned S...</td>\n",
       "      <td>4</td>\n",
       "    </tr>\n",
       "    <tr>\n",
       "      <th>2</th>\n",
       "      <td>You teach very good mam....i am in class 7th a...</td>\n",
       "      <td>3</td>\n",
       "    </tr>\n",
       "    <tr>\n",
       "      <th>3</th>\n",
       "      <td>Such an informative video I am an aspiring dat...</td>\n",
       "      <td>5</td>\n",
       "    </tr>\n",
       "    <tr>\n",
       "      <th>4</th>\n",
       "      <td>Shraddha, I am not a college student preparing...</td>\n",
       "      <td>132</td>\n",
       "    </tr>\n",
       "    <tr>\n",
       "      <th>5</th>\n",
       "      <td>This is the one which we are in need of Shradd...</td>\n",
       "      <td>1</td>\n",
       "    </tr>\n",
       "    <tr>\n",
       "      <th>6</th>\n",
       "      <td>Didi we want a full course on Javascript</td>\n",
       "      <td>1.1K</td>\n",
       "    </tr>\n",
       "    <tr>\n",
       "      <th>7</th>\n",
       "      <td>Too good, I learned lots of thing here, now us...</td>\n",
       "      <td>1</td>\n",
       "    </tr>\n",
       "    <tr>\n",
       "      <th>8</th>\n",
       "      <td>This is the one which we are in need of Shradd...</td>\n",
       "      <td>37</td>\n",
       "    </tr>\n",
       "    <tr>\n",
       "      <th>9</th>\n",
       "      <td>Great Lecture , very simple and easy way of te...</td>\n",
       "      <td>1</td>\n",
       "    </tr>\n",
       "    <tr>\n",
       "      <th>10</th>\n",
       "      <td>Thank you for this great lecture Ma'am.</td>\n",
       "      <td></td>\n",
       "    </tr>\n",
       "    <tr>\n",
       "      <th>11</th>\n",
       "      <td>Shraddha, thank you so much! You have made my ...</td>\n",
       "      <td>17</td>\n",
       "    </tr>\n",
       "    <tr>\n",
       "      <th>12</th>\n",
       "      <td>Thanks for providing this wonderful lecture ab...</td>\n",
       "      <td>10</td>\n",
       "    </tr>\n",
       "    <tr>\n",
       "      <th>13</th>\n",
       "      <td>I’m grateful for the video sources you've shar...</td>\n",
       "      <td>39</td>\n",
       "    </tr>\n",
       "    <tr>\n",
       "      <th>14</th>\n",
       "      <td>First of all thank you for the lecture, it wou...</td>\n",
       "      <td>5</td>\n",
       "    </tr>\n",
       "    <tr>\n",
       "      <th>15</th>\n",
       "      <td>.People like you two are gem and every hadrwor...</td>\n",
       "      <td>45</td>\n",
       "    </tr>\n",
       "    <tr>\n",
       "      <th>16</th>\n",
       "      <td>I really benefited your previous lecture html ...</td>\n",
       "      <td>6</td>\n",
       "    </tr>\n",
       "    <tr>\n",
       "      <th>17</th>\n",
       "      <td>I have completed thus whole lecture with pract...</td>\n",
       "      <td>5</td>\n",
       "    </tr>\n",
       "    <tr>\n",
       "      <th>18</th>\n",
       "      <td>i din't take full lecture yet ...still in betw...</td>\n",
       "      <td>9</td>\n",
       "    </tr>\n",
       "    <tr>\n",
       "      <th>19</th>\n",
       "      <td>Hey, I just loved how you explained everything...</td>\n",
       "      <td></td>\n",
       "    </tr>\n",
       "  </tbody>\n",
       "</table>\n",
       "</div>"
      ],
      "text/plain": [
       "                                             Comments upvotes\n",
       "0   Great Lecture & thank you Shradha Ma'am : )\\nS...      1K\n",
       "1   Excellent class Shradha, I seriously learned S...       4\n",
       "2   You teach very good mam....i am in class 7th a...       3\n",
       "3   Such an informative video I am an aspiring dat...       5\n",
       "4   Shraddha, I am not a college student preparing...     132\n",
       "5   This is the one which we are in need of Shradd...       1\n",
       "6           Didi we want a full course on Javascript     1.1K\n",
       "7   Too good, I learned lots of thing here, now us...       1\n",
       "8   This is the one which we are in need of Shradd...      37\n",
       "9   Great Lecture , very simple and easy way of te...       1\n",
       "10            Thank you for this great lecture Ma'am.        \n",
       "11  Shraddha, thank you so much! You have made my ...      17\n",
       "12  Thanks for providing this wonderful lecture ab...      10\n",
       "13  I’m grateful for the video sources you've shar...      39\n",
       "14  First of all thank you for the lecture, it wou...       5\n",
       "15  .People like you two are gem and every hadrwor...      45\n",
       "16  I really benefited your previous lecture html ...       6\n",
       "17  I have completed thus whole lecture with pract...       5\n",
       "18  i din't take full lecture yet ...still in betw...       9\n",
       "19  Hey, I just loved how you explained everything...        "
      ]
     },
     "execution_count": 187,
     "metadata": {},
     "output_type": "execute_result"
    }
   ],
   "source": [
    "df=pd.DataFrame({\"Comments\":comments,\"upvotes\":upvotes})\n",
    "df"
   ]
  },
  {
   "cell_type": "code",
   "execution_count": 189,
   "id": "7cf80b16",
   "metadata": {},
   "outputs": [],
   "source": [
    "driver.quit()"
   ]
  },
  {
   "cell_type": "markdown",
   "id": "42772173",
   "metadata": {},
   "source": [
    "#### 9. Write a python program to scrape a data for all available Hostels from https://www.hostelworld.com/ in “London” location. You have to scrape hostel name, distance from city centre, ratings, total reviews, overall reviews, privates from price, dorms from price, facilities and property description. "
   ]
  },
  {
   "cell_type": "code",
   "execution_count": 190,
   "id": "1aed81e6",
   "metadata": {},
   "outputs": [],
   "source": [
    "driver = webdriver.Chrome()"
   ]
  },
  {
   "cell_type": "code",
   "execution_count": 192,
   "id": "19969b70",
   "metadata": {},
   "outputs": [],
   "source": [
    "driver.get(\"https://www.hostelworld.com/\")"
   ]
  },
  {
   "cell_type": "code",
   "execution_count": 195,
   "id": "644925e5",
   "metadata": {},
   "outputs": [],
   "source": [
    "Input=driver.find_element(By.XPATH,\"/html/body/div[3]/div/div/div[2]/div[2]/div[2]/div/div/div/div[1]/div[1]/div/div[2]/input\")\n",
    "Input.send_keys(\"London\")"
   ]
  },
  {
   "cell_type": "code",
   "execution_count": 196,
   "id": "0273ff4b",
   "metadata": {},
   "outputs": [],
   "source": [
    "search=driver.find_element(By.XPATH,\"/html/body/div[3]/div/div/div[2]/div[2]/div[2]/div/div/div/div[5]/button[1]/div\")\n",
    "search.click()"
   ]
  },
  {
   "cell_type": "markdown",
   "id": "5aaae848",
   "metadata": {},
   "source": [
    "#### NAN"
   ]
  },
  {
   "cell_type": "code",
   "execution_count": null,
   "id": "bf799f89",
   "metadata": {},
   "outputs": [],
   "source": []
  }
 ],
 "metadata": {
  "kernelspec": {
   "display_name": "Python 3 (ipykernel)",
   "language": "python",
   "name": "python3"
  },
  "language_info": {
   "codemirror_mode": {
    "name": "ipython",
    "version": 3
   },
   "file_extension": ".py",
   "mimetype": "text/x-python",
   "name": "python",
   "nbconvert_exporter": "python",
   "pygments_lexer": "ipython3",
   "version": "3.11.4"
  }
 },
 "nbformat": 4,
 "nbformat_minor": 5
}
