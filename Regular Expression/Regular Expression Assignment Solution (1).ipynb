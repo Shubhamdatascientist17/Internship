{
 "cells": [
  {
   "cell_type": "markdown",
   "id": "d39eed86",
   "metadata": {},
   "source": [
    "#### Question 1- Write a Python program to replace all occurrences of a space, comma, or dot with a colon\n"
   ]
  },
  {
   "cell_type": "code",
   "execution_count": 1,
   "id": "0f86694f",
   "metadata": {},
   "outputs": [],
   "source": [
    "import pandas as pd\n",
    "import regex as re"
   ]
  },
  {
   "cell_type": "code",
   "execution_count": 2,
   "id": "09664e1d",
   "metadata": {},
   "outputs": [
    {
     "name": "stdout",
     "output_type": "stream",
     "text": [
      "Python:Exercises::PHP:exercises:\n"
     ]
    }
   ],
   "source": [
    "sample_text = 'Python Exercises, PHP exercises.'\n",
    "pattern= r'[\"\\s+\" ,.]'\n",
    "replace=':'\n",
    "text=re.sub(pattern,replace,sample_text)\n",
    "print(text)"
   ]
  },
  {
   "cell_type": "markdown",
   "id": "cabcc24a",
   "metadata": {},
   "source": [
    "#### Question 2- Write a Python program to find all words starting with 'a' or 'e' in a given string.\n"
   ]
  },
  {
   "cell_type": "code",
   "execution_count": 3,
   "id": "ed95de48",
   "metadata": {},
   "outputs": [
    {
     "name": "stdout",
     "output_type": "stream",
     "text": [
      "['exercises']\n"
     ]
    }
   ],
   "source": [
    "sample_text = 'Python Exercises, PHP exercises.'\n",
    "find=re.findall(r\"\\b[ae]\\w+\",sample_text)\n",
    "print(find)"
   ]
  },
  {
   "cell_type": "markdown",
   "id": "fc2c8a33",
   "metadata": {},
   "source": [
    "#### Question 3- Create a function in python to find all words that are at least 4 characters long in a string.The use of the re.compile() method is mandatory."
   ]
  },
  {
   "cell_type": "code",
   "execution_count": 4,
   "id": "e483c890",
   "metadata": {},
   "outputs": [
    {
     "name": "stdout",
     "output_type": "stream",
     "text": [
      "['Python', 'Exercises', 'exercises']\n"
     ]
    }
   ],
   "source": [
    "pattern=r\"\\w{4,}\"\n",
    "regex_pattern=re.compile(pattern)\n",
    "\n",
    "sample_text = 'Python Exercises, PHP exercises.'\n",
    "\n",
    "result=regex_pattern.findall(sample_text)\n",
    "print(result)"
   ]
  },
  {
   "cell_type": "markdown",
   "id": "47a14e6c",
   "metadata": {},
   "source": [
    "#### Question 4- Create a function in python to find all three, four, and five character words in a string.The use of the re.compile() method is mandatory.\n"
   ]
  },
  {
   "cell_type": "code",
   "execution_count": 5,
   "id": "ab25f1cf",
   "metadata": {},
   "outputs": [
    {
     "name": "stdout",
     "output_type": "stream",
     "text": [
      "['PHP']\n"
     ]
    }
   ],
   "source": [
    "target=r'\\b\\w{3,5}\\b'\n",
    "compile_method=re.compile(target)\n",
    "\n",
    "text= 'Python Exercises, PHP exercises.'\n",
    "\n",
    "execute=compile_method.findall(text)\n",
    "\n",
    "print(execute)"
   ]
  },
  {
   "cell_type": "markdown",
   "id": "4f6f5b61",
   "metadata": {},
   "source": [
    "#### Question 5- Create a function in Python to remove the parenthesis in a list of strings. The use of the re.compile() method is mandatory.\n"
   ]
  },
  {
   "cell_type": "code",
   "execution_count": null,
   "id": "c873e19d",
   "metadata": {},
   "outputs": [],
   "source": [
    "NAN"
   ]
  },
  {
   "cell_type": "markdown",
   "id": "0389da75",
   "metadata": {},
   "source": [
    "#### Question 6- Write a python program to remove the parenthesis area from the text stored in the text file using Regular Expression."
   ]
  },
  {
   "cell_type": "code",
   "execution_count": null,
   "id": "5d5d447c",
   "metadata": {},
   "outputs": [],
   "source": [
    "NAN"
   ]
  },
  {
   "cell_type": "markdown",
   "id": "a097b3de",
   "metadata": {},
   "source": [
    "#### Question 7- Write a regular expression in Python to split a string into uppercase letters."
   ]
  },
  {
   "cell_type": "code",
   "execution_count": 23,
   "id": "a79edcbb",
   "metadata": {},
   "outputs": [
    {
     "name": "stdout",
     "output_type": "stream",
     "text": [
      "['Importance', 'Of', 'Regular', 'Expressions', 'In', 'Python']\n"
     ]
    }
   ],
   "source": [
    "sample_text = \"ImportanceOfRegularExpressionsInPython\"\n",
    "result = re.findall('[A-Z][^A-Z]*', sample_text)\n",
    "\n",
    "print(result)"
   ]
  },
  {
   "cell_type": "markdown",
   "id": "8b1b9c5f",
   "metadata": {},
   "source": [
    "#### Question 8- Create a function in python to insert spaces between words starting with numbers.\n"
   ]
  },
  {
   "cell_type": "code",
   "execution_count": 2,
   "id": "aeb17dd2",
   "metadata": {},
   "outputs": [
    {
     "name": "stdout",
     "output_type": "stream",
     "text": [
      "RegularExpression 1IsAn 2ImportantTopic 3InPython\n"
     ]
    }
   ],
   "source": [
    "Text= \"RegularExpression1IsAn2ImportantTopic3InPython\"\n",
    "\n",
    "pattern=re.sub(r\"([a-z])(\\d)\", r'\\1 \\2',Text)\n",
    "\n",
    "print(pattern)"
   ]
  },
  {
   "cell_type": "markdown",
   "id": "c59a9fdb",
   "metadata": {},
   "source": [
    "#### Question 9- Create a function in python to insert spaces between words starting with capital letters or with numbers."
   ]
  },
  {
   "cell_type": "code",
   "execution_count": 3,
   "id": "31ff68eb",
   "metadata": {},
   "outputs": [
    {
     "name": "stdout",
     "output_type": "stream",
     "text": [
      "Regular Expression 1 Is An 2 Important Topic 3 In Python\n"
     ]
    }
   ],
   "source": [
    "import re\n",
    "sample_text = \"RegularExpression1IsAn2ImportantTopic3InPython\"\n",
    "\n",
    "pattern = r'(?<=[a-z0-9])(?=[A-Z])|(?<=[A-Za-z])(?=\\d)'\n",
    "result = re.sub(pattern, ' ',sample_text)\n",
    "\n",
    "print(result)"
   ]
  },
  {
   "cell_type": "markdown",
   "id": "00edfc0a",
   "metadata": {},
   "source": [
    "#### Question 10- Write a python program to extract email address from the text stored in the text file using Regular Expression.\n"
   ]
  },
  {
   "cell_type": "code",
   "execution_count": 4,
   "id": "5fe45454",
   "metadata": {},
   "outputs": [
    {
     "name": "stdout",
     "output_type": "stream",
     "text": [
      "['xyz@domain.com', 'xyz.abc@sdomain.domain.com']\n",
      "['hr@fliprobo.com']\n"
     ]
    }
   ],
   "source": [
    "search= open(\"Question10.txt\",\"r\")\n",
    "for email in search:\n",
    "    pattern=re.findall(\"[\\w.]{0,25}@[\\w]{2,10}.[\\w]{1,10}.com\",email)\n",
    "    print(pattern)"
   ]
  },
  {
   "cell_type": "markdown",
   "id": "eb87cec9",
   "metadata": {},
   "source": [
    "#### Question 11- Write a Python program to match a string that contains only upper and lowercase letters, numbers, and underscores.\n"
   ]
  },
  {
   "cell_type": "code",
   "execution_count": null,
   "id": "ef6cca69",
   "metadata": {},
   "outputs": [],
   "source": [
    "NAN"
   ]
  },
  {
   "cell_type": "markdown",
   "id": "efbb05ad",
   "metadata": {},
   "source": [
    "#### Question 12- Write a Python program where a string will start with a specific number."
   ]
  },
  {
   "cell_type": "code",
   "execution_count": null,
   "id": "a66063b2",
   "metadata": {},
   "outputs": [],
   "source": [
    "NAN"
   ]
  },
  {
   "cell_type": "markdown",
   "id": "65d92bf8",
   "metadata": {},
   "source": [
    "#### Question 13- Write a Python program to remove leading zeros from an IP address"
   ]
  },
  {
   "cell_type": "code",
   "execution_count": 21,
   "id": "8921950c",
   "metadata": {},
   "outputs": [
    {
     "name": "stdout",
     "output_type": "stream",
     "text": [
      "['192.168.', '1.', '1']\n"
     ]
    }
   ],
   "source": [
    "IP= \"192.168.001.001\"\n",
    "pattern=re.findall('[^0]+',IP)\n",
    "print(pattern)"
   ]
  },
  {
   "cell_type": "markdown",
   "id": "60f21ad0",
   "metadata": {},
   "source": [
    "#### Question 14- Write a regular expression in python to match a date string in the form of Month name followed by day number and year stored in a text file.\n"
   ]
  },
  {
   "cell_type": "code",
   "execution_count": 5,
   "id": "f79a5430",
   "metadata": {},
   "outputs": [
    {
     "name": "stdout",
     "output_type": "stream",
     "text": [
      "['August 15th 1947']\n"
     ]
    }
   ],
   "source": [
    "string=open(\"Question14.txt\",\"r\")\n",
    "for Date in string:\n",
    "    pattern = r'\\b(?:January|February|March|April|May|June|July|August|September|October|November|December)\\s+\\d{1,2}(?:th)?\\s+\\d{4}\\b'\n",
    "    matches = re.findall(pattern,Date)\n",
    "    \n",
    "    print(matches)"
   ]
  },
  {
   "cell_type": "markdown",
   "id": "603f1949",
   "metadata": {},
   "source": [
    "#### Question 15- Write a Python program to search some literals strings in a string."
   ]
  },
  {
   "cell_type": "code",
   "execution_count": 34,
   "id": "76136fba",
   "metadata": {},
   "outputs": [
    {
     "name": "stdout",
     "output_type": "stream",
     "text": [
      "'fox' found in the text.\n",
      "'dog' found in the text.\n",
      "'horse' not found in the text.\n"
     ]
    }
   ],
   "source": [
    "import re\n",
    "sample_text = 'The quick brown fox jumps over the lazy dog.'\n",
    "searched_words = ['fox', 'dog', 'horse']\n",
    "def search_literals(text, searched_words):\n",
    "    for word in searched_words:\n",
    "        if re.search(r'\\b' +(word) + r'\\b', text):\n",
    "            print(f\"'{word}' found in the text.\")\n",
    "        else:\n",
    "            print(f\"'{word}' not found in the text.\")\n",
    "\n",
    "search_literals(sample_text, searched_words)\n",
    "\n",
    "\n",
    "            "
   ]
  },
  {
   "cell_type": "markdown",
   "id": "ed3dfb7f",
   "metadata": {},
   "source": [
    "#### Question 16- Write a Python program to search a literals string in a string and also find the location within the original string where the pattern occurs"
   ]
  },
  {
   "cell_type": "code",
   "execution_count": 6,
   "id": "4e5e9dfb",
   "metadata": {},
   "outputs": [
    {
     "name": "stdout",
     "output_type": "stream",
     "text": [
      "<re.Match object; span=(16, 19), match='fox'>\n"
     ]
    }
   ],
   "source": [
    "text='The quick brown fox jumps over the lazy dog.'\n",
    "match=re.search(\"fox\",text)\n",
    "print(match)"
   ]
  },
  {
   "cell_type": "markdown",
   "id": "733d43ec",
   "metadata": {},
   "source": [
    "#### Question 17- Write a Python program to find the substrings within a string.\n"
   ]
  },
  {
   "cell_type": "code",
   "execution_count": 22,
   "id": "f66bac80",
   "metadata": {},
   "outputs": [
    {
     "name": "stdout",
     "output_type": "stream",
     "text": [
      "<re.Match object; span=(7, 16), match='exercises'>\n",
      "<re.Match object; span=(22, 31), match='exercises'>\n",
      "<re.Match object; span=(36, 45), match='exercises'>\n"
     ]
    }
   ],
   "source": [
    "text='Python exercises, PHP exercises, C# exercises'\n",
    "pattern=re.finditer(\"exercises\",text)\n",
    "for match in pattern:\n",
    "    print(match)\n"
   ]
  },
  {
   "cell_type": "markdown",
   "id": "8906e98f",
   "metadata": {},
   "source": [
    "#### Question 18- Write a Python program to find the occurrence and position of the substrings within a string."
   ]
  },
  {
   "cell_type": "code",
   "execution_count": 45,
   "id": "d64f7e1a",
   "metadata": {},
   "outputs": [
    {
     "name": "stdout",
     "output_type": "stream",
     "text": [
      "<re.Match object; span=(7, 16), match='exercises'>\n",
      "<re.Match object; span=(22, 31), match='exercises'>\n",
      "<re.Match object; span=(36, 45), match='exercises'>\n"
     ]
    }
   ],
   "source": [
    "text='Python exercises, PHP exercises, C# exercises'\n",
    "pattern=re.finditer(\"exercises\",text)\n",
    "for match in pattern:\n",
    "    print(match)\n",
    "    \n",
    "\n"
   ]
  },
  {
   "cell_type": "markdown",
   "id": "26211ce4",
   "metadata": {},
   "source": [
    "#### Question 19- Write a Python program to convert a date of yyyy-mm-dd format to dd-mm-yyyy format.\n"
   ]
  },
  {
   "cell_type": "code",
   "execution_count": null,
   "id": "3172d6ee",
   "metadata": {},
   "outputs": [],
   "source": [
    "NAN"
   ]
  },
  {
   "cell_type": "markdown",
   "id": "76e2fa16",
   "metadata": {},
   "source": [
    "#### Question 20- Create a function in python to find all decimal numbers with a precision of 1 or 2 in a string. The use of the re.compile() method is mandatory"
   ]
  },
  {
   "cell_type": "code",
   "execution_count": 9,
   "id": "a4172f3c",
   "metadata": {},
   "outputs": [
    {
     "name": "stdout",
     "output_type": "stream",
     "text": [
      "['01.12', '145.8', '3.01', '27.25', '0.25']\n"
     ]
    }
   ],
   "source": [
    "import re\n",
    "\n",
    "def find_decimal_numbers(text):\n",
    "    pattern = re.compile(r'\\b\\d+\\.\\d{1,2}\\b')\n",
    "    matches = pattern.findall(text)\n",
    "    return matches\n",
    "\n",
    "sample_text = \"01.12 0132.123 2.31875 145.8 3.01 27.25 0.25\"\n",
    "result = find_decimal_numbers(sample_text)\n",
    "print(result)"
   ]
  },
  {
   "cell_type": "markdown",
   "id": "3e1f4ea3",
   "metadata": {},
   "source": [
    "#### Question 21- Write a Python program to separate and print the numbers and their position of a given string."
   ]
  },
  {
   "cell_type": "code",
   "execution_count": null,
   "id": "bb9b375c",
   "metadata": {},
   "outputs": [],
   "source": [
    "NAN"
   ]
  },
  {
   "cell_type": "markdown",
   "id": "9aac9cc3",
   "metadata": {},
   "source": [
    "#### Question 22- Write a regular expression in python program to extract maximum/largest numeric value from a string."
   ]
  },
  {
   "cell_type": "code",
   "execution_count": 14,
   "id": "c4a35ece",
   "metadata": {},
   "outputs": [
    {
     "name": "stdout",
     "output_type": "stream",
     "text": [
      "950\n"
     ]
    }
   ],
   "source": [
    "import re\n",
    "sample_text = 'My marks in each semester are: 947, 896, 926, 524, 734, 950, 642'\n",
    "\n",
    "def extract_max_numeric_value(text):\n",
    "    numbers = re.findall(r'\\b\\d+\\b', text)\n",
    "    if numbers:\n",
    "        max_number = max(map(int, numbers))\n",
    "        return max_number\n",
    "    else:\n",
    "        return None\n",
    "\n",
    "result = extract_max_numeric_value(sample_text)\n",
    "print(result)"
   ]
  },
  {
   "cell_type": "markdown",
   "id": "7125c779",
   "metadata": {},
   "source": [
    "#### Question 23- Create a function in python to insert spaces between words starting with capital letters."
   ]
  },
  {
   "cell_type": "code",
   "execution_count": 16,
   "id": "8ee93926",
   "metadata": {},
   "outputs": [
    {
     "name": "stdout",
     "output_type": "stream",
     "text": [
      "Regular Expression Is An Important Topic In Python\n"
     ]
    }
   ],
   "source": [
    "Sample_Text=\"RegularExpressionIsAnImportantTopicInPython\"\n",
    "def capital_word_spaces(Sample_Text):\n",
    "    return re.sub(r\"(\\w)([A-Z])\", r\"\\1 \\2\",Sample_Text)\n",
    "\n",
    "\n",
    "print(capital_word_spaces(Sample_Text))"
   ]
  },
  {
   "cell_type": "markdown",
   "id": "fd1fc422",
   "metadata": {},
   "source": [
    "#### Question 24- Python regex to find sequences of one upper case letter followed by lower case letters"
   ]
  },
  {
   "cell_type": "code",
   "execution_count": 44,
   "id": "83369367",
   "metadata": {},
   "outputs": [
    {
     "name": "stdout",
     "output_type": "stream",
     "text": [
      "Sequences found: ['Regular', 'Expression', 'Is', 'An', 'Important', 'Topic', 'In', 'Python']\n"
     ]
    }
   ],
   "source": [
    "import re\n",
    "\n",
    "def find_upper_lower_sequences(text):\n",
    "    pattern = r'[A-Z][a-z]+'\n",
    "    sequences = re.findall(pattern, text)\n",
    "    return sequences\n",
    "\n",
    "sample_text = \"Regular Expression Is An Important Topic In Python\"\n",
    "sequences = find_upper_lower_sequences(sample_text)\n",
    "print(\"Sequences found:\", sequences)\n"
   ]
  },
  {
   "cell_type": "markdown",
   "id": "3a1cf2d5",
   "metadata": {},
   "source": [
    "#### Question 25- Write a Python program to remove continuous duplicate words from Sentence using Regular Expression."
   ]
  },
  {
   "cell_type": "code",
   "execution_count": 17,
   "id": "e84f68c4",
   "metadata": {},
   "outputs": [
    {
     "name": "stdout",
     "output_type": "stream",
     "text": [
      "Hello hello world\n"
     ]
    }
   ],
   "source": [
    "sample_Text=\"Hello hello world world\"\n",
    "pattern =r'\\b(\\w+)(?:\\W+\\1\\b)+'\n",
    "\n",
    "result=re.sub(pattern,r'\\1',sample_Text)\n",
    "print(result)"
   ]
  },
  {
   "cell_type": "markdown",
   "id": "a19eabd4",
   "metadata": {},
   "source": [
    "#### Question 26- Write a python program using RegEx to accept string ending with alphanumeric character."
   ]
  },
  {
   "cell_type": "code",
   "execution_count": 41,
   "id": "7a249cac",
   "metadata": {},
   "outputs": [
    {
     "name": "stdout",
     "output_type": "stream",
     "text": [
      "'Hello123' is valid and ends with an alphanumeric character.\n",
      "'Testing!' is not valid or doesn't end with an alphanumeric character.\n",
      "'Regex123' is valid and ends with an alphanumeric character.\n",
      "'Python3' is valid and ends with an alphanumeric character.\n"
     ]
    }
   ],
   "source": [
    "Tstrings = ['Hello123', 'Testing!', 'Regex123', 'Python3']\n",
    "for string in Tstrings:\n",
    "\n",
    "    if re.match( r'^.*[a-zA-Z0-9]$',string):\n",
    "        print(f\"'{string}' is valid and ends with an alphanumeric character.\")\n",
    "    else:\n",
    "        print(f\"'{string}' is not valid or doesn't end with an alphanumeric character.\")\n"
   ]
  },
  {
   "cell_type": "markdown",
   "id": "269662ce",
   "metadata": {},
   "source": [
    "#### Question 27-Write a python program using RegEx to extract the hashtags."
   ]
  },
  {
   "cell_type": "code",
   "execution_count": 13,
   "id": "fd437d0e",
   "metadata": {},
   "outputs": [
    {
     "name": "stdout",
     "output_type": "stream",
     "text": [
      "['#Doltiwal', '#xyzabc', '#Demonetization']\n"
     ]
    }
   ],
   "source": [
    "Sample_Text=\"\"\"RT @kapil_kausik: #Doltiwal I mean #xyzabc is \"hurt\" by #Demonetization as the same\n",
    "has rendered USELESS <ed><U+00A0><U+00BD><ed><U+00B1><U+0089> \"acquired funds\" No wo\"\"\"\n",
    "\n",
    "match=re.findall(\"#[A-Za-z]+\",Sample_Text)\n",
    "print(match)"
   ]
  },
  {
   "cell_type": "markdown",
   "id": "f39a00ba",
   "metadata": {},
   "source": [
    "#### Question 28- Write a python program using RegEx to remove <U+..> like symbols Check the below sample text, there are strange symbols something of the sort <U+..> all over the place. You need to come up with a general Regex expression that will cover all such symbols"
   ]
  },
  {
   "cell_type": "code",
   "execution_count": 12,
   "id": "f00f6a6b",
   "metadata": {},
   "outputs": [
    {
     "name": "stdout",
     "output_type": "stream",
     "text": [
      "@Jags123456 Bharat band on 28??<ed><ed>Those who are protesting #demonetization are all different party leaders\n"
     ]
    }
   ],
   "source": [
    "Sample_Text= \"@Jags123456 Bharat band on 28??<ed><U+00A0><U+00BD><ed><U+00B8><U+0082>Those who are protesting #demonetization are all different party leaders\"\n",
    "\n",
    "result=re.sub(r\"<U\\+[0-9A-Za-z]+>\",\"\",Sample_Text)\n",
    "\n",
    "print(result)"
   ]
  },
  {
   "cell_type": "markdown",
   "id": "2ef795f5",
   "metadata": {},
   "source": [
    "#### Question 29- Write a python program to extract dates from the text stored in the text file.\n"
   ]
  },
  {
   "cell_type": "code",
   "execution_count": 1,
   "id": "ac019ae4",
   "metadata": {},
   "outputs": [
    {
     "name": "stdout",
     "output_type": "stream",
     "text": [
      "[('12', '09', '1992'), ('15', '12', '1999')]\n"
     ]
    }
   ],
   "source": [
    "import re\n",
    "f1= open(\"Question_29.txt\",\"r\")\n",
    "for line in f1:\n",
    "    pattern=re.findall(\"(\\d{2})-(\\d{2})-(\\d{4})\",line)\n",
    "    print(pattern)"
   ]
  },
  {
   "cell_type": "markdown",
   "id": "5136e763",
   "metadata": {},
   "source": [
    "#### Question 30- Create a function in python to remove all words from a string of length between 2 and 4.The use of the re.compile() method is mandatory."
   ]
  },
  {
   "cell_type": "code",
   "execution_count": 11,
   "id": "1a54cf33",
   "metadata": {},
   "outputs": [
    {
     "name": "stdout",
     "output_type": "stream",
     "text": [
      " following example creates  ArrayList  a capacity   elements. 4 elements   added   ArrayList   ArrayList  trimmed accordingly.\n"
     ]
    }
   ],
   "source": [
    "Text= \"The following example creates an ArrayList with a capacity of 50 elements. 4 elements are then added to the ArrayList and the ArrayList is trimmed accordingly.\"\n",
    "pattern=re.compile(r\"\\b[\\w+]{2,4}\\b\")\n",
    "result=pattern.sub(\"\",Text)\n",
    "print(result)"
   ]
  },
  {
   "cell_type": "code",
   "execution_count": null,
   "id": "b46248ab",
   "metadata": {},
   "outputs": [],
   "source": []
  }
 ],
 "metadata": {
  "kernelspec": {
   "display_name": "Python 3 (ipykernel)",
   "language": "python",
   "name": "python3"
  },
  "language_info": {
   "codemirror_mode": {
    "name": "ipython",
    "version": 3
   },
   "file_extension": ".py",
   "mimetype": "text/x-python",
   "name": "python",
   "nbconvert_exporter": "python",
   "pygments_lexer": "ipython3",
   "version": "3.11.4"
  }
 },
 "nbformat": 4,
 "nbformat_minor": 5
}
